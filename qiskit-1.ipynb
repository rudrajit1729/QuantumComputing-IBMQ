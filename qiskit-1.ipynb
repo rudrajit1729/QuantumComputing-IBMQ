{
 "cells": [
  {
   "cell_type": "code",
   "execution_count": 1,
   "metadata": {},
   "outputs": [
    {
     "data": {
      "text/html": [
       "<pre style=\"word-wrap: normal;white-space: pre;background: #fff0;line-height: 1.1;font-family: &quot;Courier New&quot;,Courier,monospace\">        ┌───┐     ┌─┐   \n",
       "q_0: |0>┤ X ├──■──┤M├───\n",
       "        └───┘┌─┴─┐└╥┘┌─┐\n",
       "q_1: |0>─────┤ X ├─╫─┤M├\n",
       "             └───┘ ║ └╥┘\n",
       " c_0: 0 ═══════════╩══╬═\n",
       "                      ║ \n",
       " c_1: 0 ══════════════╩═\n",
       "                        </pre>"
      ],
      "text/plain": [
       "        ┌───┐     ┌─┐   \n",
       "q_0: |0>┤ X ├──■──┤M├───\n",
       "        └───┘┌─┴─┐└╥┘┌─┐\n",
       "q_1: |0>─────┤ X ├─╫─┤M├\n",
       "             └───┘ ║ └╥┘\n",
       " c_0: 0 ═══════════╩══╬═\n",
       "                      ║ \n",
       " c_1: 0 ══════════════╩═\n",
       "                        "
      ]
     },
     "execution_count": 1,
     "metadata": {},
     "output_type": "execute_result"
    }
   ],
   "source": [
    "import qiskit as q\n",
    "%matplotlib inline\n",
    "\n",
    "circuit = q.QuantumCircuit(2, 2) # 2 qubits, 2 classical bits\n",
    "\n",
    "# currently: 0, 0\n",
    "circuit.x(0) # not gate applied to qubit 0\n",
    "# 1, 0\n",
    "circuit.cx(0, 1) # cnot, controlled not. Entangles i.e. Flips 2nd qubit value IF first qubit is a 1\n",
    "# 1, 1\n",
    "circuit.measure([0, 1], [0, 1]) # Looking in Schrodinger's box(Value collapses). Direct repr. of qubits to classical bits\n",
    "circuit.draw()"
   ]
  },
  {
   "cell_type": "code",
   "execution_count": 2,
   "metadata": {},
   "outputs": [
    {
     "data": {
      "image/png": "[encoded data removed]",
      "text/plain": [
       "<Figure size 418.992x204.68 with 1 Axes>"
      ]
     },
     "execution_count": 2,
     "metadata": {},
     "output_type": "execute_result"
    }
   ],
   "source": [
    "circuit.draw(output = 'mpl')"
   ]
  },
  {
   "cell_type": "code",
   "execution_count": 3,
   "metadata": {},
   "outputs": [
    {
     "name": "stderr",
     "output_type": "stream",
     "text": [
      "configrc.store_credentials:WARNING:2020-04-08 07:21:10,843: Credentials already present. Set overwrite=True to overwrite.\n"
     ]
    }
   ],
   "source": [
    "# Save your account\n",
    "from qiskit import IBMQ\n",
    "IBMQ.save_account(open(\"token.txt\",\"r\").read())"
   ]
  },
  {
   "cell_type": "code",
   "execution_count": 4,
   "metadata": {},
   "outputs": [
    {
     "data": {
      "text/plain": [
       "<AccountProvider for IBMQ(hub='ibm-q', group='open', project='main')>"
      ]
     },
     "execution_count": 4,
     "metadata": {},
     "output_type": "execute_result"
    }
   ],
   "source": [
    "IBMQ.load_account()"
   ]
  },
  {
   "cell_type": "code",
   "execution_count": 5,
   "metadata": {},
   "outputs": [
    {
     "name": "stdout",
     "output_type": "stream",
     "text": [
      "ibmq_qasm_simulator has 3 queued and simulated qubits\n",
      "ibmqx2 has 5 queued and 5 qubits\n",
      "ibmq_16_melbourne has 17 queued and 15 qubits\n",
      "ibmq_vigo has 4 queued and 5 qubits\n",
      "ibmq_ourense has 2 queued and 5 qubits\n",
      "ibmq_london has 2 queued and 5 qubits\n",
      "ibmq_burlington has 3 queued and 5 qubits\n",
      "ibmq_essex has 3 queued and 5 qubits\n",
      "ibmq_armonk has 3 queued and 1 qubits\n"
     ]
    }
   ],
   "source": [
    "# Check machines for backend and figure out queue and available qubits per machine\n",
    "# Choose simulator for practice and while deploying research work try using machine with lowest queue while aving required no. of qubits\n",
    "provider = IBMQ.get_provider('ibm-q')\n",
    "for backend in provider.backends():\n",
    "    try:\n",
    "        qubit_count = len(backend.properties().qubits)\n",
    "    except:\n",
    "        qubit_count = 'simulated'\n",
    "    print(\"{} has {} queued and {} qubits\".format(backend.name(), backend.status().pending_jobs, qubit_count))"
   ]
  },
  {
   "cell_type": "code",
   "execution_count": 6,
   "metadata": {},
   "outputs": [
    {
     "name": "stdout",
     "output_type": "stream",
     "text": [
      "Job Status: job has successfully run\n"
     ]
    }
   ],
   "source": [
    "from qiskit.tools.monitor import job_monitor\n",
    "\n",
    "backend = provider.get_backend('ibmq_london')\n",
    "job = q.execute(circuit, backend = backend, shots = 500) \n",
    "# We need large no. of shots because in each shot when measured qubits collapse to single value. Large no. of shots to figure out the exp. results\n",
    "job_monitor(job)"
   ]
  },
  {
   "cell_type": "code",
   "execution_count": 7,
   "metadata": {},
   "outputs": [
    {
     "data": {
      "image/png": "[encoded data removed]",
      "text/plain": [
       "<Figure size 504x360 with 1 Axes>"
      ]
     },
     "execution_count": 7,
     "metadata": {},
     "output_type": "execute_result"
    }
   ],
   "source": [
    "from qiskit.visualization import plot_histogram\n",
    "from matplotlib import style\n",
    "\n",
    "style.use('dark_background')\n",
    "result = job.result()\n",
    "counts = result.get_counts(circuit)\n",
    "\n",
    "plot_histogram([counts])"
   ]
  },
  {
   "cell_type": "code",
   "execution_count": 8,
   "metadata": {},
   "outputs": [
    {
     "data": {
      "image/png": "[encoded data removed]",
      "text/plain": [
       "<Figure size 418.992x204.68 with 1 Axes>"
      ]
     },
     "execution_count": 8,
     "metadata": {},
     "output_type": "execute_result"
    }
   ],
   "source": [
    "# Run on a simulator(if machine busy or you want a simulation on a perfect quantum comp(noise eliminated))\n",
    "##backend = provider.get_backend('ibmq_qasm_simulator')\n",
    "# Till now we examined the entangled property\n",
    "# Now we will be looking at superposition principle\n",
    "\n",
    "circuit = q.QuantumCircuit(2, 2) # 2 qubits, 2 classical bits\n",
    "\n",
    "# currently: 0, 0\n",
    "circuit.h(0) # hadamard gate applied. Puts the given qubit in superposition\n",
    "# 1, 0\n",
    "circuit.cx(0, 1) # cnot, controlled not. Entangles i.e. Flips 2nd qubit value IF first qubit is a 1\n",
    "# 1, 1\n",
    "circuit.measure([0, 1], [0, 1]) # Looking in Schrodinger's box(Value collapses). Direct repr. of qubits to classical bits\n",
    "circuit.draw(output = 'mpl')"
   ]
  },
  {
   "cell_type": "code",
   "execution_count": 9,
   "metadata": {},
   "outputs": [
    {
     "name": "stdout",
     "output_type": "stream",
     "text": [
      "Job Status: job has successfully run\n"
     ]
    }
   ],
   "source": [
    "job = q.execute(circuit, backend = backend, shots = 500) \n",
    "# We need large no. of shots because in each shot when measured qubits collapse to single value. Large no. of shots to figure out the exp. results\n",
    "job_monitor(job)"
   ]
  },
  {
   "cell_type": "code",
   "execution_count": 10,
   "metadata": {},
   "outputs": [
    {
     "data": {
      "image/png": "[encoded data removed]",
      "text/plain": [
       "<Figure size 504x360 with 1 Axes>"
      ]
     },
     "execution_count": 10,
     "metadata": {},
     "output_type": "execute_result"
    }
   ],
   "source": [
    "result = job.result()\n",
    "counts = result.get_counts(circuit)\n",
    "\n",
    "plot_histogram([counts])\n",
    "# We had put qubit 1 on superposition and qubit 2 would switch up only when qubit 1 was a 1.\n",
    "# Shows that we have nearly equal probabilities of having 0 and 1.\n",
    "# Some practical deviations due to quantum noise."
   ]
  },
  {
   "cell_type": "code",
   "execution_count": 11,
   "metadata": {},
   "outputs": [
    {
     "name": "stdout",
     "output_type": "stream",
     "text": [
      "qasm_simulator\n",
      "statevector_simulator\n",
      "unitary_simulator\n",
      "pulse_simulator\n"
     ]
    }
   ],
   "source": [
    "# Running on a local simulator\n",
    "\n",
    "from qiskit import Aer # Simulator framework for qiskit\n",
    "sim_backend = Aer.get_backend('qasm_simulator')\n",
    "# Checking for available backends\n",
    "# qasm simulator resembles actual quantum machine closely\n",
    "for backend in Aer.backends():\n",
    "    print(backend)"
   ]
  },
  {
   "cell_type": "code",
   "execution_count": 12,
   "metadata": {},
   "outputs": [
    {
     "name": "stdout",
     "output_type": "stream",
     "text": [
      "Job Status: job has successfully run\n"
     ]
    }
   ],
   "source": [
    "job = q.execute(circuit, backend = sim_backend, shots = 500)\n",
    "job_monitor(job)"
   ]
  },
  {
   "cell_type": "code",
   "execution_count": 13,
   "metadata": {},
   "outputs": [
    {
     "data": {
      "image/png": "[encoded data removed]",
      "text/plain": [
       "<Figure size 504x360 with 1 Axes>"
      ]
     },
     "execution_count": 13,
     "metadata": {},
     "output_type": "execute_result"
    }
   ],
   "source": [
    "result = job.result()\n",
    "counts = result.get_counts()\n",
    "plot_histogram([counts])\n",
    "# Here we see \n",
    "# We had put qubit 1 on superposition and qubit 2 would switch up only when qubit 1 was a 1.\n",
    "# Shows that we have nearly equal probabilities of having 0 and 1.\n",
    "# Hence shows superposition principle."
   ]
  },
  {
   "cell_type": "code",
   "execution_count": null,
   "metadata": {},
   "outputs": [],
   "source": []
  }
 ],
 "metadata": {
  "kernelspec": {
   "display_name": "Python 3",
   "language": "python",
   "name": "python3"
  },
  "language_info": {
   "codemirror_mode": {
    "name": "ipython",
    "version": 3
   },
   "file_extension": ".py",
   "mimetype": "text/x-python",
   "name": "python",
   "nbconvert_exporter": "python",
   "pygments_lexer": "ipython3",
   "version": "3.7.7"
  }
 },
 "nbformat": 4,
 "nbformat_minor": 4
}
