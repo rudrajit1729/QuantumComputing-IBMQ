{
 "cells": [
  {
   "cell_type": "markdown",
   "metadata": {},
   "source": [
    "# Shor's algorithm, fully classical implementation"
   ]
  },
  {
   "cell_type": "code",
   "execution_count": 1,
   "metadata": {},
   "outputs": [],
   "source": [
    "%matplotlib inline\n",
    "import random\n",
    "import math\n",
    "import itertools\n",
    "def period_finding_classical(a,N):\n",
    "    # This is an inefficient classical algorithm to find the period of f(x)=a^x (mod N)\n",
    "    # f(0) = a**0 (mod N) = 1, so we find the first x greater than 0 for which f(x) is also 1\n",
    "    for r in itertools.count(start=1):\n",
    "        if (a**r) % N == 1:\n",
    "            return r\n",
    "\n",
    "def shors_algorithm_classical(N):\n",
    "    assert(N>0)\n",
    "    assert(int(N)==N)\n",
    "    while True:\n",
    "        a=random.randint(0,N-1)\n",
    "        g=math.gcd(a,N)\n",
    "        if g!=1 or N==1:\n",
    "            first_factor=g\n",
    "            second_factor=int(N/g)\n",
    "            return first_factor,second_factor\n",
    "        else:\n",
    "            r=period_finding_classical(a,N)  \n",
    "            if r % 2 != 0:\n",
    "                continue\n",
    "            elif a**(int(r/2)) % N == -1 % N:\n",
    "                continue\n",
    "            else:\n",
    "                first_factor=math.gcd(a**int(r/2)+1,N)\n",
    "                second_factor=math.gcd(a**int(r/2)-1,N)\n",
    "                if first_factor==N or second_factor==N:\n",
    "                    continue\n",
    "                return first_factor,second_factor\n"
   ]
  },
  {
   "cell_type": "code",
   "execution_count": 2,
   "metadata": {},
   "outputs": [
    {
     "data": {
      "text/plain": [
       "(13, 7)"
      ]
     },
     "execution_count": 2,
     "metadata": {},
     "output_type": "execute_result"
    }
   ],
   "source": [
    "# Testing it out. Note because of the probabilistic nature of the algorithm, different factors and different ordering is possible\n",
    "shors_algorithm_classical(15)\n",
    "shors_algorithm_classical(91)"
   ]
  },
  {
   "cell_type": "markdown",
   "metadata": {},
   "source": [
    "# Shor's algorithm, working on a quantum implementation\n",
    "## The following code will help give intuition for how to design a quantum circuit to do modular multiplication "
   ]
  },
  {
   "cell_type": "code",
   "execution_count": 3,
   "metadata": {},
   "outputs": [
    {
     "name": "stdout",
     "output_type": "stream",
     "text": [
      "[(7, 21, 28, 14), (34, 27, 6, 13), (2, 16, 23, 9), (26, 33, 19, 12), (18, 4, 32, 11), (24, 17, 31, 3), (15,), (30,), (5,), (8, 29, 22, 1), (20,), (10,), (25,)]\n",
      "[('000111', '010101', '011100', '001110'), ('100010', '011011', '000110', '001101'), ('000010', '010000', '010111', '001001'), ('011010', '100001', '010011', '001100'), ('010010', '000100', '100000', '001011'), ('011000', '010001', '011111', '000011'), ('001111',), ('011110',), ('000101',), ('001000', '011101', '010110', '000001'), ('010100',), ('001010',), ('011001',)]\n"
     ]
    }
   ],
   "source": [
    "def U_a_modN(a,N,binary=False):\n",
    "    \"\"\"\n",
    "    a and N are decimal\n",
    "    This algorithm returns U_a where:\n",
    "        U_a is a modular multiplication operator map from |x> to |ax mod N>\n",
    "    If binary is set to True, the mapping is given in binary instead of in decimal notation.\n",
    "    \n",
    "    \"\"\"\n",
    "    res={}\n",
    "    l=[]\n",
    "    for i in range(1,N):\n",
    "        l+=[a*i%N]\n",
    "    res=set()\n",
    "\n",
    "    for i in range(1,N):\n",
    "        mp=[i]\n",
    "        end=i\n",
    "        nxt=i-1\n",
    "        while l[nxt]!=end:\n",
    "            mp+=[l[nxt]]\n",
    "            nxt=l[nxt]-1\n",
    "        res.add(tuple(mp))\n",
    "    final_res=[]\n",
    "    for item in res:\n",
    "        dup=False\n",
    "        for final_item in final_res:\n",
    "            if set(item) == set(final_item):\n",
    "                dup=True\n",
    "        if not dup:\n",
    "            final_res+=[item]\n",
    "    if not binary:\n",
    "        return final_res\n",
    "    else:\n",
    "        final_res_bin=[]\n",
    "        for mapping in final_res:\n",
    "            final_res_bin+=[tuple(['{0:06b}'.format(decimal) for decimal in mapping])]\n",
    "        return final_res_bin\n",
    "        \n",
    "print(U_a_modN(8,35))\n",
    "print(U_a_modN(8,35,binary=True))"
   ]
  },
  {
   "cell_type": "markdown",
   "metadata": {},
   "source": [
    "# This code implements modular multiplication by 2 mod 15"
   ]
  },
  {
   "cell_type": "code",
   "execution_count": 4,
   "metadata": {},
   "outputs": [
    {
     "name": "stderr",
     "output_type": "stream",
     "text": [
      "/Users/corbett/Documents/Mastering-Quantum-Computing-with-IBM-QX/book/lib/python3.7/site-packages/marshmallow/schema.py:364: ChangedInMarshmallow3Warning: strict=False is not recommended. In marshmallow 3.0, schemas will always be strict. See https://marshmallow.readthedocs.io/en/latest/upgrading.html#schemas-are-always-strict\n",
      "  ChangedInMarshmallow3Warning\n"
     ]
    }
   ],
   "source": [
    "import qiskit\n",
    "import matplotlib\n",
    "from qiskit import QuantumCircuit, ClassicalRegister, QuantumRegister, QISKitError\n",
    "from  qiskit.tools.visualization  import circuit_drawer\n",
    "from qiskit.extensions.standard import cx, cswap\n",
    "from qiskit import Aer\n",
    "\n",
    "from qiskit import IBMQ\n",
    "# Authenticate an account and add for use during this session. Replace string\n",
    "# argument with your private token.\n",
    "IBMQ.enable_account(\"INSERT_YOUR_API_TOKEN_HERE\")\n",
    "\n",
    "def mult_2mod15_quantum(qr,qc):\n",
    "    # Swap 0th qubit and 3rd qubit\n",
    "    qc.cx(qr[0],qr[3])\n",
    "    qc.cx(qr[3],qr[0])\n",
    "    qc.cx(qr[0],qr[3])\n",
    "\n",
    "    # Swap 0th qubit and 1st qubit\n",
    "    qc.cx(qr[1],qr[0])\n",
    "    qc.cx(qr[0],qr[1])\n",
    "    qc.cx(qr[1],qr[0])\n",
    "\n",
    "    # Swap 1st qubit and 2nd qubit\n",
    "    qc.cx(qr[1],qr[2])\n",
    "    qc.cx(qr[2],qr[1])\n",
    "    qc.cx(qr[1],qr[2])\n",
    "\n",
    "\n",
    "def mult_2mod15_quantum_test(x):\n",
    "    qr = QuantumRegister(4)\n",
    "    cr = ClassicalRegister(4)\n",
    "    qc = QuantumCircuit(qr,cr)\n",
    "\n",
    "    # input\n",
    "    x_bin='{0:04b}'.format(x)\n",
    "    for i,b in enumerate(x_bin):\n",
    "        if int(b):\n",
    "            qc.x(qr[i])\n",
    "    # run circuit\n",
    "    mult_2mod15_quantum(qr,qc)\n",
    "\n",
    "    # measure results\n",
    "    for i in range(4):\n",
    "        qc.measure(qr[i],cr[i])\n",
    "        \n",
    "    import time\n",
    "    from qiskit.tools.visualization import plot_histogram\n",
    "    backend=Aer.get_backend('qasm_simulator')\n",
    "    shots=50\n",
    "    job_exp = qiskit.execute(qc, backend=backend)\n",
    "    result = job_exp.result()\n",
    "    final=result.get_counts(qc)\n",
    "    result_in_order=list(final.keys())[0]\n",
    "    dec=0\n",
    "    for i,b in enumerate(result_in_order):\n",
    "        if int(b):\n",
    "            dec+=2**i\n",
    "    return (x,dec)\n",
    "\n",
    "def mult_2mod15_classical_test(x):\n",
    "    return (x,2*x%15)\n",
    "\n",
    "# testing!\n",
    "for i in range(1,15):\n",
    "    quantum=mult_2mod15_quantum_test(i)\n",
    "    classical=mult_2mod15_classical_test(i)\n",
    "    if quantum!=classical:\n",
    "        print(quantum,classical)"
   ]
  },
  {
   "cell_type": "markdown",
   "metadata": {},
   "source": [
    "## This code makes the previous an operation controlled by a control qubit"
   ]
  },
  {
   "cell_type": "code",
   "execution_count": 5,
   "metadata": {},
   "outputs": [],
   "source": [
    "def controlled_mult_2mod15_quantum(qr,qc,control_qubit):\n",
    "    \"\"\"\n",
    "    Controlled quantum circuit for multiplication by 2 mod 15.\n",
    "        Note: control qubit should an index greater than 3, \n",
    "        and qubits 0,1,2,3 are reserved for circuit operations\n",
    "    \"\"\"\n",
    "    # Swap 0th qubit and 3rd qubit\n",
    "    qc.cswap(control_qubit,qr[0],qr[3])\n",
    "\n",
    "    # Swap 0th qubit and 1st qubit\n",
    "    qc.cswap(control_qubit,qr[1],qr[0])\n",
    "\n",
    "    # Swap 1st qubit and 2nd qubit\n",
    "    qc.cswap(control_qubit,qr[1],qr[2])\n"
   ]
  },
  {
   "cell_type": "markdown",
   "metadata": {},
   "source": [
    "# This code performas the entire Shor's algorithm subroutine for multiplication by 2 mod 15"
   ]
  },
  {
   "cell_type": "code",
   "execution_count": 6,
   "metadata": {},
   "outputs": [],
   "source": [
    "import math\n",
    "def shors_subroutine_period_2mod15(qr,qc,cr):\n",
    "    qc.x(qr[0])\n",
    "    qc.h(qr[4])\n",
    "    qc.h(qr[4])\n",
    "    qc.measure(qr[4],cr[0])\n",
    "\n",
    "    qc.h(qr[5])\n",
    "    qc.cx(qr[5],qr[0])\n",
    "    qc.cx(qr[5],qr[2])\n",
    "    if cr[0] == 1:\n",
    "        qc.u1(math.pi/2,qr[4]) #pi/2 is 90 degrees in radians\n",
    "    qc.h(qr[5])\n",
    "    qc.measure(qr[5],cr[1])\n",
    "\n",
    "    qc.h(qr[6])\n",
    "    controlled_mult_2mod15_quantum(qr,qc,qr[6])\n",
    "    if cr[1] == 1:\n",
    "        qc.u1(math.pi/2,qr[6]) # pi/2 is 90 degrees in radians\n",
    "    if cr[0] == 1:\n",
    "        qc.u1(math.pi/4,qr[6]) #pi/4 is 45 degrees in radians\n",
    "    qc.h(qr[6])\n",
    "    qc.measure(qr[6],cr[2]) "
   ]
  },
  {
   "cell_type": "markdown",
   "metadata": {},
   "source": [
    "# This code will help us read out the results from our quantum Shor's subroutine. First, implementing the code to compute the period from the output of the quantum computation:\n"
   ]
  },
  {
   "cell_type": "code",
   "execution_count": 7,
   "metadata": {},
   "outputs": [
    {
     "data": {
      "text/latex": [
       "$\\displaystyle \\frac{p_0}{q_0}=\\frac{0}{1}$"
      ],
      "text/plain": [
       "<IPython.core.display.Math object>"
      ]
     },
     "metadata": {},
     "output_type": "display_data"
    },
    {
     "data": {
      "text/latex": [
       "$\\displaystyle \\frac{p_1}{q_1}=\\frac{1}{1}$"
      ],
      "text/plain": [
       "<IPython.core.display.Math object>"
      ]
     },
     "metadata": {},
     "output_type": "display_data"
    },
    {
     "data": {
      "text/latex": [
       "$\\displaystyle \\frac{p_2}{q_2}=\\frac{3}{4}$"
      ],
      "text/plain": [
       "<IPython.core.display.Math object>"
      ]
     },
     "metadata": {},
     "output_type": "display_data"
    }
   ],
   "source": [
    "# see https://arxiv.org/pdf/quant-ph/0010034.pdf for more details (convergence relations on page 11)\n",
    "import math\n",
    "def continued_fraction(xi,max_steps=100): # stop_after is cutoff for algorithm, for debugging\n",
    "    \"\"\"\n",
    "    This function computes the continued fraction expansion of input xi\n",
    "    per the recurrance relations on page 11 of https://arxiv.org/pdf/quant-ph/0010034.pdf\n",
    "    \n",
    "    \"\"\"\n",
    "    #a and xi initial\n",
    "    all_as=[]\n",
    "    all_xis=[]\n",
    "    a_0=math.floor(xi)\n",
    "    xi_0=xi-a_0\n",
    "    all_as+=[a_0]\n",
    "    all_xis+=[xi_0]\n",
    "    # p and q initial\n",
    "    all_ps=[]\n",
    "    all_qs=[]\n",
    "    p_0=all_as[0]\n",
    "    q_0=1\n",
    "    all_ps+=[p_0]\n",
    "    all_qs+=[q_0]\n",
    "    \n",
    "    xi_n=xi_0\n",
    "    while not numpy.isclose(xi_n,0,atol=1e-7):\n",
    "        if len(all_as)>=max_steps:\n",
    "            print(\"Warning: algorithm did not converge within max_steps %d steps, try increasing max_steps\"%max_steps)\n",
    "            break\n",
    "        # computing a and xi\n",
    "        a_nplus1=math.floor(1/xi_n)\n",
    "        xi_nplus1=1/xi_n-a_nplus1\n",
    "        all_as+=[a_nplus1]\n",
    "        all_xis+=[xi_nplus1]\n",
    "        xi_n=xi_nplus1\n",
    "        # computing p and q\n",
    "        n=len(all_as)-1\n",
    "        if n==1:\n",
    "            p_1=all_as[1]*all_as[0]+1\n",
    "            q_1=all_as[1]\n",
    "            all_ps+=[p_1]\n",
    "            all_qs+=[q_1]\n",
    "        else:\n",
    "            p_n=all_as[n]*all_ps[n-1]+all_ps[n-2]\n",
    "            q_n=all_as[n]*all_qs[n-1]+all_qs[n-2]\n",
    "            all_ps+=[p_n]\n",
    "            all_qs+=[q_n]\n",
    "    return all_ps,all_qs,all_as,all_xis\n",
    "    \n",
    "import numpy\n",
    "def test_continued_fraction():\n",
    "    \"\"\"\n",
    "    Testing the continued fraction  see https://arxiv.org/pdf/quant-ph/0010034.pdf, step 2.5 chart page 20\n",
    "    NOTE: I believe there is a mistake in this chart at the last row, and that n should range as in my code below\n",
    "    their chart is missing one line. Please contact me if you find differently! \n",
    "    \"\"\"\n",
    "    xi=13453/16384\n",
    "    all_ps,all_qs,all_as,all_xis=continued_fraction(xi)\n",
    "    ## step 2.5 chart in https://arxiv.org/pdf/quant-ph/0010034.pdf page 20\n",
    "    #n_13453_16384=[0,1,2,3,4,5,6,7,8,9,10,11,12,13,14]\n",
    "    #a_n_13453_16384=[0,1,4,1,1,2,3,1,1,3,1,1,1,1,3]\n",
    "    #p_n_13453_16384=[0,1,4,5,9,23,78,101,179,638,817,1455,2272,3727,13453]\n",
    "    #q_n_13453_16384=[1,1,5,6,11,28,95,123,218,777,995,1772,2767,4539,16384]\n",
    "    ## what I find instead:\n",
    "    n_13453_16384=[0,1,2,3,4,5,6,7,8,9,10,11,12,13,14,15]\n",
    "    a_n_13453_16384=[0,1,4,1,1,2,3,1,1,3,1,1,1,1,2,1]\n",
    "    p_n_13453_16384=[0,1,4,5,9,23,78,101,179,638,817,1455,2272,3727,9726,13453]\n",
    "    q_n_13453_16384=[1,1,5,6,11,28,95,123,218,777,995,1772,2767,4539,11845,16384]\n",
    "    for tup in [(\"ns\",range(len(all_ps)),range(len(n_13453_16384))),\n",
    "                (\"as\",all_as,a_n_13453_16384),\n",
    "                (\"ps\",all_ps,p_n_13453_16384),\n",
    "                (\"qs\",all_qs,q_n_13453_16384),\n",
    "               ]:\n",
    "        if not numpy.array_equal(tup[1],tup[2]):\n",
    "            print(tup[0])\n",
    "            print(\"act:\",tup[1])\n",
    "            print(\"exp:\",tup[2])\n",
    "            print()\n",
    "            \n",
    "from IPython.display import display, Math\n",
    "def pretty_print_continued_fraction(results,raw_latex=False):\n",
    "    all_ps,all_qs,all_as,all_xis=results\n",
    "    for i,vals in enumerate(zip(all_ps,all_qs,all_as,all_xis)):\n",
    "        p,q,a,xi=vals\n",
    "        if raw_latex:\n",
    "            print(r'\\frac{p_%d}{q_%d}=\\frac{%d}{%d}'%(i,i,p,q))\n",
    "        else:\n",
    "            display(Math(r'$\\frac{p_%d}{q_%d}=\\frac{%d}{%d}$'%(i,i,p,q)))\n",
    "    \n",
    "            \n",
    "test_continued_fraction()\n",
    "#pretty_print_continued_fraction(continued_fraction(5/8),raw_latex=True)\n",
    "#pretty_print_continued_fraction(continued_fraction(0/8))\n",
    "pretty_print_continued_fraction(continued_fraction(6/8))"
   ]
  },
  {
   "cell_type": "markdown",
   "metadata": {},
   "source": [
    "# Next we will integrate the check for whether we have found the period into the continued fraction code, so that we can stop computing the continued fraction as soon as we've found the period"
   ]
  },
  {
   "cell_type": "code",
   "execution_count": 8,
   "metadata": {},
   "outputs": [
    {
     "data": {
      "text/plain": [
       "6"
      ]
     },
     "execution_count": 8,
     "metadata": {},
     "output_type": "execute_result"
    }
   ],
   "source": [
    "import math\n",
    "def period_from_quantum_measurement(quantum_measurement,\n",
    "                                    number_qubits,\n",
    "                                    a_shor,\n",
    "                                    N_shor,\n",
    "                                    max_steps=100): # stop_after is cutoff for algorithm, for debugging\n",
    "    \"\"\"\n",
    "    This function computes the continued fraction expansion of input xi\n",
    "    per the recurrance relations on page 11 of https://arxiv.org/pdf/quant-ph/0010034.pdf\n",
    "    a_shor is the random number chosen as part of Shor's algorithm\n",
    "    N_shor is the number Shor's algorithm is trying to factor\n",
    "    \"\"\"\n",
    "    xi=quantum_measurement/2**number_qubits\n",
    "    \n",
    "    #a and xi initial\n",
    "    all_as=[]\n",
    "    all_xis=[]\n",
    "    a_0=math.floor(xi)\n",
    "    xi_0=xi-a_0\n",
    "    all_as+=[a_0]\n",
    "    all_xis+=[xi_0]\n",
    "    # p and q initial\n",
    "    all_ps=[]\n",
    "    all_qs=[]\n",
    "    p_0=all_as[0]\n",
    "    q_0=1\n",
    "    all_ps+=[p_0]\n",
    "    all_qs+=[q_0]\n",
    "    \n",
    "    xi_n=xi_0\n",
    "    while not numpy.isclose(xi_n,0,atol=1e-7):\n",
    "        if len(all_as)>=max_steps:\n",
    "            print(\"Warning: algorithm did not converge within max_steps %d steps, try increasing max_steps\"%max_steps)\n",
    "            break\n",
    "        # computing a and xi\n",
    "        a_nplus1=math.floor(1/xi_n)\n",
    "        xi_nplus1=1/xi_n-a_nplus1\n",
    "        all_as+=[a_nplus1]\n",
    "        all_xis+=[xi_nplus1]\n",
    "        xi_n=xi_nplus1\n",
    "        # computing p and q\n",
    "        n=len(all_as)-1\n",
    "        if n==1:\n",
    "            p_1=all_as[1]*all_as[0]+1\n",
    "            q_1=all_as[1]\n",
    "            all_ps+=[p_1]\n",
    "            all_qs+=[q_1]\n",
    "        else:\n",
    "            p_n=all_as[n]*all_ps[n-1]+all_ps[n-2]\n",
    "            q_n=all_as[n]*all_qs[n-1]+all_qs[n-2]\n",
    "            all_ps+=[p_n]\n",
    "            all_qs+=[q_n]\n",
    "        # check the q to see if it is our answer (note with this we skip the first q, as a trivial case)\n",
    "        if a_shor**all_qs[-1]%N_shor == 1 % N_shor:\n",
    "            return all_qs[-1]\n",
    "\n",
    "period_from_quantum_measurement(13453,14,3,91) #should return, for example 6 per page 20 of https://arxiv.org/pdf/quant-ph/0010034.pdf"
   ]
  },
  {
   "cell_type": "code",
   "execution_count": 9,
   "metadata": {},
   "outputs": [
    {
     "name": "stdout",
     "output_type": "stream",
     "text": [
      "4\n"
     ]
    }
   ],
   "source": [
    "# Testing this:\n",
    "import qiskit\n",
    "from qiskit import QuantumCircuit, ClassicalRegister, QuantumRegister\n",
    "\n",
    "def binary_string_to_decimal(s):\n",
    "    dec=0\n",
    "    for i in s[::-1]:\n",
    "        if int(i):\n",
    "            dec+=2**int(i)\n",
    "    return dec\n",
    "\n",
    "def run_shors_subroutine_period2_mod15():\n",
    "    qr = QuantumRegister(7)\n",
    "    cr = ClassicalRegister(3)\n",
    "    qc = QuantumCircuit(qr,cr)\n",
    "    # initialize x to be a superposition of all possible r quibit values\n",
    "    #for i in range(4):\n",
    "    #    qc.h(qr[i])\n",
    "    # run circuit (which includes measurement steps)\n",
    "    shors_subroutine_period_2mod15(qr,qc,cr)\n",
    "        \n",
    "    import time\n",
    "    from qiskit.tools.visualization import plot_histogram\n",
    "    backend=Aer.get_backend('qasm_simulator')\n",
    "    job_exp = qiskit.execute(qc, backend=backend,shots=1)\n",
    "    result = job_exp.result()\n",
    "    final=result.get_counts(qc)\n",
    "    # convert final result to decimal\n",
    "    measurement=binary_string_to_decimal(list(final.keys())[0])\n",
    "    period_r=period_from_quantum_measurement(measurement,3,2,15)\n",
    "    return period_r\n",
    "print(run_shors_subroutine_period2_mod15())\n",
    "\n"
   ]
  },
  {
   "cell_type": "markdown",
   "metadata": {},
   "source": [
    "# The last thing to do will be to implement the full Shor's algorithm and check if the r is correct by plugging it in, getting factors and checking results. If not, rerun the algorithm. "
   ]
  },
  {
   "cell_type": "code",
   "execution_count": 10,
   "metadata": {},
   "outputs": [],
   "source": [
    "def period_finding_quantum(a,N):\n",
    "    # for the sake of example we will not implement this algorithm in full generality\n",
    "    # rather, we will create an example with one specific a and one specific N\n",
    "    # extension work could be done to impl\n",
    "    if a==2 and N==15:\n",
    "        return run_shors_subroutine_period2_mod15()\n",
    "    else:\n",
    "        raise Exception(\"Not implemented for N=%d, a=%d\" % (N,a))\n",
    "        \n",
    "def shors_algorithm_quantum(N,fixed_a=None):\n",
    "    assert(N>0)\n",
    "    assert(int(N)==N)\n",
    "    while True:\n",
    "        if not fixed_a:\n",
    "            a=random.randint(0,N-1) \n",
    "        else:\n",
    "            a=fixed_a\n",
    "        g=math.gcd(a,N)\n",
    "        if g!=1 or N==1:\n",
    "            first_factor=g\n",
    "            second_factor=int(N/g)\n",
    "            return first_factor,second_factor\n",
    "        else:\n",
    "            r=period_finding_quantum(a,N)  \n",
    "            if not r:\n",
    "                continue\n",
    "            if r % 2 != 0:\n",
    "                continue\n",
    "            elif a**(int(r/2)) % N == -1 % N:\n",
    "                continue\n",
    "            else:\n",
    "                first_factor=math.gcd(a**int(r/2)+1,N)\n",
    "                second_factor=math.gcd(a**int(r/2)-1,N)\n",
    "                if first_factor==N or second_factor==N:\n",
    "                    continue\n",
    "                if first_factor*second_factor!=N:\n",
    "                    # checking our work\n",
    "                    continue\n",
    "                return first_factor,second_factor\n",
    "\n"
   ]
  },
  {
   "cell_type": "code",
   "execution_count": 11,
   "metadata": {},
   "outputs": [
    {
     "data": {
      "text/plain": [
       "(5, 3)"
      ]
     },
     "execution_count": 11,
     "metadata": {},
     "output_type": "execute_result"
    }
   ],
   "source": [
    "# Here's our final result\n",
    "shors_algorithm_quantum(15,fixed_a=2)\n"
   ]
  },
  {
   "cell_type": "code",
   "execution_count": 13,
   "metadata": {},
   "outputs": [
    {
     "name": "stdout",
     "output_type": "stream",
     "text": [
      "randomly chosen a=0 would result in (5, 3)\n",
      "FINISH IMPLEMENTING algorithm doesn't work with a randomly chosen a=1 at this stage\n",
      "randomly chosen a=2 would result in (5, 3)\n",
      "randomly chosen a=3 would result in (3, 5)\n",
      "FINISH IMPLEMENTING algorithm doesn't work with a randomly chosen a=4 at this stage\n",
      "randomly chosen a=5 would result in (5, 3)\n",
      "randomly chosen a=6 would result in (3, 5)\n",
      "FINISH IMPLEMENTING algorithm doesn't work with a randomly chosen a=7 at this stage\n",
      "FINISH IMPLEMENTING algorithm doesn't work with a randomly chosen a=8 at this stage\n",
      "randomly chosen a=9 would result in (3, 5)\n",
      "randomly chosen a=10 would result in (5, 3)\n",
      "FINISH IMPLEMENTING algorithm doesn't work with a randomly chosen a=11 at this stage\n",
      "randomly chosen a=12 would result in (3, 5)\n",
      "FINISH IMPLEMENTING algorithm doesn't work with a randomly chosen a=13 at this stage\n",
      "FINISH IMPLEMENTING algorithm doesn't work with a randomly chosen a=14 at this stage\n"
     ]
    }
   ],
   "source": [
    "# Now trying it out to see how the algorithm would function if we let it choose a given random a:\n",
    "for a in range(15):\n",
    "    # Here's the result for a given a:\n",
    "    try:\n",
    "        print(\"randomly chosen a=%d would result in %s\"%(a,shors_algorithm_quantum(15,fixed_a=a)))\n",
    "    except:\n",
    "        print(\"FINISH IMPLEMENTING algorithm doesn't work with a randomly chosen a=%d at this stage\"%a)\n",
    "            "
   ]
  },
  {
   "cell_type": "code",
   "execution_count": null,
   "metadata": {},
   "outputs": [],
   "source": []
  },
  {
   "cell_type": "code",
   "execution_count": null,
   "metadata": {},
   "outputs": [],
   "source": []
  }
 ],
 "metadata": {
  "kernelspec": {
   "display_name": "Python 3",
   "language": "python",
   "name": "python3"
  },
  "language_info": {
   "codemirror_mode": {
    "name": "ipython",
    "version": 3
   },
   "file_extension": ".py",
   "mimetype": "text/x-python",
   "name": "python",
   "nbconvert_exporter": "python",
   "pygments_lexer": "ipython3",
   "version": "3.7.7"
  }
 },
 "nbformat": 4,
 "nbformat_minor": 4
}
